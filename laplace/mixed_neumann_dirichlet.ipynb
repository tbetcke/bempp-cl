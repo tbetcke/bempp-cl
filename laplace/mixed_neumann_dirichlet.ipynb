{
 "cells": [
  {
   "cell_type": "markdown",
   "id": "3595648c",
   "metadata": {},
   "source": [
    "# Solving a mixed Neumann-Dirichlet problem\n",
    "\n",
    "## Background\n",
    "With Bempp, it is possible to define operators only on segments of a given domain. This makes it possible to solve mixed Neumann-Dirichlet problems. In this tutorial, we solve the Laplace equation inside the unit cube with unit Dirichlet boundary conditions on two sides and unit Neumann boundary conditions on the other four sides.\n",
    "\n",
    "Denote by $\\Gamma_D$ the part of the boundary that holds the Dirichlet boundary conditions and by $\\Gamma_N$ the boundary part that holds the Neumann boundary conditions. We denote by $t\\in\\Gamma_D$ the unknown Neumann data and by $u\\in\\Gamma_N$ the unknown Dirichlet data. The given Dirichlet data on $\\Gamma_D$ is denoted by $g_D$ and the given Neumann data on $\\Gamma_N$ is denoted by $g_N$.\n",
    "\n",
    "From Green's representation theorem it follows that\n",
    "$$\n",
    "\\begin{align}\n",
    "\\left[\\mathsf{V}t\\right] (\\mathbf{x}) - \\left[\\mathsf{K}u\\right] (\\mathbf{x}) &= \\left[\\tfrac{1}{2}\\mathsf{Id} + \\mathsf{K}\\right]g_D(\\mathbf{x}) - \\mathsf{V}g_N(\\mathbf{x}),\\quad \\mathbf{x}\\in\\Gamma_D\\\\\n",
    "\\left[\\mathsf{W}u\\right] (\\mathbf{x}) + \\left[\\mathsf{K}'t\\right] (\\mathbf{x}) &=\\left[\\tfrac{1}{2}\\mathsf{Id} - \\mathsf{K}'\\right]g_N(\\mathbf{x}) - \\mathsf{W}g_D(\\mathbf{x}),\\quad \\mathbf{x}\\in\\Gamma_N\n",
    "\\end{align}\n",
    "$$\n",
    "Here (as usual) $\\mathsf{V}$, $\\mathsf{K}$, $\\mathsf{K}'$, $\\mathsf{W}$ are the single layer, double layer, adjoint double layer and hypersingular boundary operators.\n",
    "\n",
    "The difficulty in the implementation is the definition of the discrete function spaces and the treatment of degrees of freedom (dofs) that lie on the interface between $\\Gamma_N$ and $\\Gamma_D$. In the following, we will go through the implementation and point out how to correctly define all spaces involved.\n",
    "\n",
    "## Implementation\n",
    "We start with the usual imports and set the plotting backend to Jupyter Notebook."
   ]
  },
  {
   "cell_type": "code",
   "execution_count": 1,
   "id": "776fb64a",
   "metadata": {
    "execution": {
     "iopub.execute_input": "2025-02-17T07:24:24.449859Z",
     "iopub.status.busy": "2025-02-17T07:24:24.449691Z",
     "iopub.status.idle": "2025-02-17T07:24:24.818566Z",
     "shell.execute_reply": "2025-02-17T07:24:24.818063Z"
    }
   },
   "outputs": [],
   "source": [
    "import bempp.api"
   ]
  },
  {
   "cell_type": "markdown",
   "id": "6f0057ec",
   "metadata": {},
   "source": [
    "We now define the domain. We use a standard unit cube. In the corresponding function all sides of the cube are already associated with different domain indices. We associate the indices 1 and 3 with the Dirichlet boundary and the other indices with the neumann boundary."
   ]
  },
  {
   "cell_type": "code",
   "execution_count": 2,
   "id": "c1d672f4",
   "metadata": {
    "execution": {
     "iopub.execute_input": "2025-02-17T07:24:24.820483Z",
     "iopub.status.busy": "2025-02-17T07:24:24.820258Z",
     "iopub.status.idle": "2025-02-17T07:24:33.604565Z",
     "shell.execute_reply": "2025-02-17T07:24:33.604060Z"
    }
   },
   "outputs": [
    {
     "name": "stdout",
     "output_type": "stream",
     "text": [
      "\n"
     ]
    }
   ],
   "source": [
    "grid = bempp.api.shapes.cube()\n",
    "dirichlet_segments = [1, 3]\n",
    "neumann_segments = [2, 4, 5, 6]"
   ]
  },
  {
   "cell_type": "markdown",
   "id": "630d659a",
   "metadata": {},
   "source": [
    "We can now define the spaces. For the Neumann data, we use discontinuous polynomial basis functions of order 1. For the Dirichlet data, we use continuous basis functions of local polynomial order 2.\n",
    "\n",
    "We need global spaces for the Dirichlet and Neumann data and suitable spaces on the segments. The space definitions are as follows:\n",
    "\n",
    "* The ``neumann_space_dirichlet_segment`` space holds the unknown Neumann data $t$ on $\\Gamma_D$.\n",
    "\n",
    "* The ``neumann_space_neumann_segment`` space is defined on $\\Gamma_N$ and holds the Neumann data on this segment.\n",
    "\n",
    "* The ``dirichlet_space_dirichlet_segment`` space is a space of continuous basis functions that holds the Dirichlet data on $\\Gamma_D$. Basis functions are allowed to extend into the elements adjacent to $\\Gamma_D$. We hence set the parameter ``include_boundary_dofs`` to true. This ensures that we include dofs on the boundary of the segment, and to ensure that the basis functions extend continuously into the complement of the segment we additionally set ``truncate_at_segment_edge`` to false.\n",
    "\n",
    "* The ``dirichlet_space_neumann_segment`` is defined similarly to the ``dirichlet_space_dirichlet_segment`` but on the open segment $\\Gamma_N$. Hence, we require that ``include_boundary_dofs`` is false, which is the default."
   ]
  },
  {
   "cell_type": "code",
   "execution_count": 3,
   "id": "0e1b1ea0",
   "metadata": {
    "execution": {
     "iopub.execute_input": "2025-02-17T07:24:33.606631Z",
     "iopub.status.busy": "2025-02-17T07:24:33.606299Z",
     "iopub.status.idle": "2025-02-17T07:24:36.542007Z",
     "shell.execute_reply": "2025-02-17T07:24:36.541466Z"
    }
   },
   "outputs": [],
   "source": [
    "global_neumann_space = bempp.api.function_space(grid, \"DP\", 0)\n",
    "global_dirichlet_space = bempp.api.function_space(grid, \"P\", 1)\n",
    "\n",
    "neumann_space_dirichlet_segment = bempp.api.function_space(grid, \"DP\", 0, segments=dirichlet_segments)\n",
    "\n",
    "neumann_space_neumann_segment = bempp.api.function_space(grid, \"DP\", 0, segments=neumann_segments)\n",
    "\n",
    "dirichlet_space_dirichlet_segment = bempp.api.function_space(\n",
    "    grid, \"P\", 1, segments=dirichlet_segments, include_boundary_dofs=True, truncate_at_segment_edge=False\n",
    ")\n",
    "\n",
    "dirichlet_space_neumann_segment = bempp.api.function_space(grid, \"P\", 1, segments=neumann_segments)\n",
    "\n",
    "dual_dirichlet_space = bempp.api.function_space(grid, \"P\", 1, segments=dirichlet_segments, include_boundary_dofs=True)"
   ]
  },
  {
   "cell_type": "markdown",
   "id": "74fd3412",
   "metadata": {},
   "source": [
    "In the following, we define all operators on the corresponding spaces and the overall blocked operator."
   ]
  },
  {
   "cell_type": "code",
   "execution_count": 4,
   "id": "c4188dca",
   "metadata": {
    "execution": {
     "iopub.execute_input": "2025-02-17T07:24:36.544072Z",
     "iopub.status.busy": "2025-02-17T07:24:36.543721Z",
     "iopub.status.idle": "2025-02-17T07:24:36.549623Z",
     "shell.execute_reply": "2025-02-17T07:24:36.549256Z"
    }
   },
   "outputs": [],
   "source": [
    "slp_DD = bempp.api.operators.boundary.laplace.single_layer(\n",
    "    neumann_space_dirichlet_segment, dirichlet_space_dirichlet_segment, neumann_space_dirichlet_segment\n",
    ")\n",
    "\n",
    "dlp_DN = bempp.api.operators.boundary.laplace.double_layer(\n",
    "    dirichlet_space_neumann_segment, dirichlet_space_dirichlet_segment, neumann_space_dirichlet_segment\n",
    ")\n",
    "\n",
    "adlp_ND = bempp.api.operators.boundary.laplace.adjoint_double_layer(\n",
    "    neumann_space_dirichlet_segment, neumann_space_neumann_segment, dirichlet_space_neumann_segment\n",
    ")\n",
    "\n",
    "hyp_NN = bempp.api.operators.boundary.laplace.hypersingular(\n",
    "    dirichlet_space_neumann_segment, neumann_space_neumann_segment, dirichlet_space_neumann_segment\n",
    ")\n",
    "\n",
    "slp_DN = bempp.api.operators.boundary.laplace.single_layer(\n",
    "    neumann_space_neumann_segment, dirichlet_space_dirichlet_segment, neumann_space_dirichlet_segment\n",
    ")\n",
    "\n",
    "dlp_DD = bempp.api.operators.boundary.laplace.double_layer(\n",
    "    dirichlet_space_dirichlet_segment, dirichlet_space_dirichlet_segment, neumann_space_dirichlet_segment\n",
    ")\n",
    "\n",
    "id_DD = bempp.api.operators.boundary.sparse.identity(\n",
    "    dirichlet_space_dirichlet_segment, dirichlet_space_dirichlet_segment, neumann_space_dirichlet_segment\n",
    ")\n",
    "\n",
    "adlp_NN = bempp.api.operators.boundary.laplace.adjoint_double_layer(\n",
    "    neumann_space_neumann_segment, neumann_space_neumann_segment, dirichlet_space_neumann_segment\n",
    ")\n",
    "\n",
    "id_NN = bempp.api.operators.boundary.sparse.identity(\n",
    "    neumann_space_neumann_segment, neumann_space_neumann_segment, dirichlet_space_neumann_segment\n",
    ")\n",
    "\n",
    "hyp_ND = bempp.api.operators.boundary.laplace.hypersingular(\n",
    "    dirichlet_space_dirichlet_segment, neumann_space_neumann_segment, dirichlet_space_neumann_segment\n",
    ")\n",
    "\n",
    "blocked = bempp.api.BlockedOperator(2, 2)\n",
    "\n",
    "blocked[0, 0] = slp_DD\n",
    "blocked[0, 1] = -dlp_DN\n",
    "blocked[1, 0] = adlp_ND\n",
    "blocked[1, 1] = hyp_NN"
   ]
  },
  {
   "cell_type": "markdown",
   "id": "d283b1b4",
   "metadata": {
    "lines_to_next_cell": 2
   },
   "source": [
    "Next, we define the functions of the Dirichlet and Neumann data and their discretisations on the corresponding segments."
   ]
  },
  {
   "cell_type": "code",
   "execution_count": 5,
   "id": "f18c6a03",
   "metadata": {
    "execution": {
     "iopub.execute_input": "2025-02-17T07:24:36.551280Z",
     "iopub.status.busy": "2025-02-17T07:24:36.550971Z",
     "iopub.status.idle": "2025-02-17T07:26:52.759512Z",
     "shell.execute_reply": "2025-02-17T07:26:52.758931Z"
    }
   },
   "outputs": [
    {
     "name": "stderr",
     "output_type": "stream",
     "text": [
      "/dolfinx-env/lib/python3.12/site-packages/bempp/api/assembly/discrete_boundary_operator.py:639: SparseEfficiencyWarning: splu converted its input to CSC format\n",
      "  solver = solver_interface(actual_mat)\n"
     ]
    }
   ],
   "source": [
    "@bempp.api.real_callable\n",
    "def dirichlet_data(x, n, domain_index, res):\n",
    "    res[0] = 1\n",
    "\n",
    "\n",
    "@bempp.api.real_callable\n",
    "def neumann_data(x, n, domain_index, res):\n",
    "    res[0] = 1\n",
    "\n",
    "\n",
    "dirichlet_grid_fun = bempp.api.GridFunction(\n",
    "    dirichlet_space_dirichlet_segment, fun=dirichlet_data, dual_space=dual_dirichlet_space\n",
    ")\n",
    "\n",
    "neumann_grid_fun = bempp.api.GridFunction(\n",
    "    neumann_space_neumann_segment, fun=neumann_data, dual_space=dirichlet_space_neumann_segment\n",
    ")\n",
    "\n",
    "rhs_fun1 = (0.5 * id_DD + dlp_DD) * dirichlet_grid_fun - slp_DN * neumann_grid_fun\n",
    "rhs_fun2 = -hyp_ND * dirichlet_grid_fun + (0.5 * id_NN - adlp_NN) * neumann_grid_fun"
   ]
  },
  {
   "cell_type": "markdown",
   "id": "6772ec4a",
   "metadata": {},
   "source": [
    "We can now discretise and solve the blocked operator system. We solve without preconditioner. This would cause problems if we were to further increase the degree of the basis functions. Note that Bempp automatically handles the block structure correctly. We have a $2\\times 2$ system of operators, hand over as right-hand side two grid functions, and are returned two grid functions as solution."
   ]
  },
  {
   "cell_type": "code",
   "execution_count": 6,
   "id": "c567d165",
   "metadata": {
    "execution": {
     "iopub.execute_input": "2025-02-17T07:26:52.761475Z",
     "iopub.status.busy": "2025-02-17T07:26:52.761301Z",
     "iopub.status.idle": "2025-02-17T07:26:55.245838Z",
     "shell.execute_reply": "2025-02-17T07:26:55.245401Z"
    }
   },
   "outputs": [],
   "source": [
    "(neumann_solution, dirichlet_solution), _ = bempp.api.linalg.gmres(blocked, [rhs_fun1, rhs_fun2])"
   ]
  },
  {
   "cell_type": "markdown",
   "id": "92125a6e",
   "metadata": {},
   "source": [
    "We want to recombine the computed Dirichlet and Neumann data with the corresponding known data in order to get Dirichlet and Neumann grid functions defined on the whole grid. To achieve this we define identity operators from $\\Gamma_N$ and $\\Gamma_D$ into the global Dirichlet and Neumann spaces."
   ]
  },
  {
   "cell_type": "code",
   "execution_count": 7,
   "id": "511b687a",
   "metadata": {
    "execution": {
     "iopub.execute_input": "2025-02-17T07:26:55.247860Z",
     "iopub.status.busy": "2025-02-17T07:26:55.247598Z",
     "iopub.status.idle": "2025-02-17T07:27:07.280266Z",
     "shell.execute_reply": "2025-02-17T07:27:07.279739Z"
    }
   },
   "outputs": [],
   "source": [
    "neumann_imbedding_dirichlet_segment = bempp.api.operators.boundary.sparse.identity(\n",
    "    neumann_space_dirichlet_segment, global_neumann_space, global_neumann_space\n",
    ")\n",
    "\n",
    "neumann_imbedding_neumann_segment = bempp.api.operators.boundary.sparse.identity(\n",
    "    neumann_space_neumann_segment, global_neumann_space, global_neumann_space\n",
    ")\n",
    "\n",
    "dirichlet_imbedding_dirichlet_segment = bempp.api.operators.boundary.sparse.identity(\n",
    "    dirichlet_space_dirichlet_segment, global_dirichlet_space, global_dirichlet_space\n",
    ")\n",
    "\n",
    "dirichlet_imbedding_neumann_segment = bempp.api.operators.boundary.sparse.identity(\n",
    "    dirichlet_space_neumann_segment, global_dirichlet_space, global_dirichlet_space\n",
    ")\n",
    "\n",
    "dirichlet = (\n",
    "    dirichlet_imbedding_dirichlet_segment * dirichlet_grid_fun\n",
    "    + dirichlet_imbedding_neumann_segment * dirichlet_solution\n",
    ")\n",
    "\n",
    "neumann = neumann_imbedding_neumann_segment * neumann_grid_fun + neumann_imbedding_dirichlet_segment * neumann_solution"
   ]
  },
  {
   "cell_type": "markdown",
   "id": "ddb50f26",
   "metadata": {},
   "source": [
    "Finally, we export the solution as a Gmsh file. Bempp infers the file type from the file extension."
   ]
  },
  {
   "cell_type": "code",
   "execution_count": 8,
   "id": "23156073",
   "metadata": {
    "execution": {
     "iopub.execute_input": "2025-02-17T07:27:07.282183Z",
     "iopub.status.busy": "2025-02-17T07:27:07.282008Z",
     "iopub.status.idle": "2025-02-17T07:27:08.923564Z",
     "shell.execute_reply": "2025-02-17T07:27:08.923013Z"
    }
   },
   "outputs": [
    {
     "name": "stderr",
     "output_type": "stream",
     "text": [
      "/dolfinx-env/lib/python3.12/site-packages/bempp/api/assembly/discrete_boundary_operator.py:639: SparseEfficiencyWarning: splu converted its input to CSC format\n",
      "  solver = solver_interface(actual_mat)\n"
     ]
    }
   ],
   "source": [
    "bempp.api.export(\"mixed_dirichlet_neumann_laplace_solution.msh\", grid_function=dirichlet)"
   ]
  },
  {
   "cell_type": "markdown",
   "id": "cc820b83",
   "metadata": {},
   "source": [
    "Alternatively, we could export a VTK file using the following command. More details on exporting and plotting in Bempp can be found [in the Bempp Handbook](https://bempp.com/handbook/api/using_grids.html#plotting-and-exporting-grids)"
   ]
  },
  {
   "cell_type": "code",
   "execution_count": 9,
   "id": "e9545026",
   "metadata": {
    "execution": {
     "iopub.execute_input": "2025-02-17T07:27:08.925472Z",
     "iopub.status.busy": "2025-02-17T07:27:08.925148Z",
     "iopub.status.idle": "2025-02-17T07:27:08.961189Z",
     "shell.execute_reply": "2025-02-17T07:27:08.960763Z"
    }
   },
   "outputs": [],
   "source": [
    "bempp.api.export(\"mixed_dirichlet_neumann_laplace_solution.vtk\", grid_function=dirichlet)"
   ]
  },
  {
   "cell_type": "markdown",
   "id": "dcf5c7bd",
   "metadata": {},
   "source": [
    "It should look as follows."
   ]
  },
  {
   "cell_type": "code",
   "execution_count": 10,
   "id": "eb9aaf7f",
   "metadata": {
    "execution": {
     "iopub.execute_input": "2025-02-17T07:27:08.962900Z",
     "iopub.status.busy": "2025-02-17T07:27:08.962725Z",
     "iopub.status.idle": "2025-02-17T07:27:08.965839Z",
     "shell.execute_reply": "2025-02-17T07:27:08.965454Z"
    }
   },
   "outputs": [],
   "source": [
    "try:\n",
    "    get_ipython()\n",
    "    ipython = True\n",
    "except NameError:\n",
    "    ipython = False\n",
    "if ipython:\n",
    "    from IPython.display import Image\n",
    "\n",
    "    Image(\"mixed_dirichlet_neumann_laplace_solution.png\")"
   ]
  }
 ],
 "metadata": {
  "jupytext": {
   "main_language": "python"
  },
  "language_info": {
   "codemirror_mode": {
    "name": "ipython",
    "version": 3
   },
   "file_extension": ".py",
   "mimetype": "text/x-python",
   "name": "python",
   "nbconvert_exporter": "python",
   "pygments_lexer": "ipython3",
   "version": "3.12.3"
  }
 },
 "nbformat": 4,
 "nbformat_minor": 5
}
