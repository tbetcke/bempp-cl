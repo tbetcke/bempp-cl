{
 "cells": [
  {
   "cell_type": "markdown",
   "id": "ab0241f5",
   "metadata": {},
   "source": [
    "# Computing the capacity of a cube with a re-entrant corner\n",
    "\n",
    "## Background\n",
    "The capacity $\\text{cap}(\\Omega)$ of an isolated conductor $\\Omega\\subset\\mathbb{R}^3$ with boundary $\\Gamma$ measures its ability to store charges. It is defined as the ratio of the total surface equilibrium charge relative to its surface potential value. To compute the capacity, we need to solve the following exterior Laplace problem for the equilibrium potential $u$ with unit surface value:\n",
    "$$\n",
    "\\begin{align}\n",
    "-\\Delta u &= 0\\quad\\text{in }\\Omega^\\text{+},\\\\\n",
    "u &= 1\\quad\\text{on }\\Gamma,\\\\\n",
    "|u(\\mathbf{x})| &=\\mathcal{O}\\left(|\\mathbf{x}|^{-1}\\right)\\quad\\text{as }|\\mathbf{x}|\\rightarrow\\infty.\n",
    "\\end{align}\n",
    "$$\n",
    "Here $\\Omega^\\text{+}$ is the domain exterior to $\\Omega$.\n",
    "The total surface charge of an isolated conductor is given by Gauss law as\n",
    "$$\n",
    "\\text{cap}(\\Omega)=-\\epsilon_0\\int_{\\Gamma}\\frac{\\partial u}{\\partial\\nu}(\\mathbf{x})\\,\\mathrm{d}\\mathbf{x}.\n",
    "$$\n",
    "$\\nu(\\mathbf{x})$ is the outward pointing normal direction for $\\mathbf{x}\\in\\Gamma$, and $\\epsilon_0$ is the electric constant with value $\\epsilon_0\\approx 8.854\\times 10^{-12}\\,{\\rm F/m}$. In the following we will use the normalized capacity $\\text{cap}^*(\\Omega)=-\\frac{1}{4\\pi}\\int_{\\Gamma}\\frac{\\partial u}{\\partial\\nu}\\,d\\mathbf{x}$. The normalized capacity has the value $1$ for the unit sphere.\n",
    "\n",
    "Using Green's representation theorem and noting that the exterior Laplace double layer potential is zero for constant densities, we can represent the solution $u$ as\n",
    "$$\n",
    "u(\\mathbf{x}) = -\\int_{\\Gamma} g(\\mathbf{x},\\mathbf{y})\\phi(\\mathbf{y})\\,\\mathrm{d}\\mathbf{y} \\quad\\text{for all }\\mathbf{x}\\in\\Omega^\\text{+},\n",
    "$$\n",
    "where $\\phi:={\\partial u}/{\\partial\\nu}$ is the normal derivative of the exterior solution $u$ and $g(\\mathbf{x},\\mathbf{y}):=\\frac{1}{4\\pi|\\mathbf{x}-\\mathbf{y}|}$ is the Green's function of the 3D Laplacian. By taking boundary traces, we arrive at the following boundary integral equation of the first kind.\n",
    "$$\n",
    "1 = -\\int_{\\Gamma} g(\\mathbf{x},\\mathbf{y})\\phi(\\mathbf{y})\\,\\mathrm{d}\\mathbf{y} =: -\\mathsf{V}\\phi(\\mathbf{x})\\quad\\text{for all }\\mathbf{x}\\in\\Gamma.\n",
    "$$\n",
    "The normalized capacity is now simply given by\n",
    "$$\n",
    "\\text{cap}^*(\\Omega) = -\\frac{1}{4\\pi}\\int_\\Gamma \\phi(\\mathbf{x}) \\,\\mathrm{d}\\mathbf{x}.\n",
    "$$\n",
    "\n",
    "## Implementation\n",
    "We start with the usual imports."
   ]
  },
  {
   "cell_type": "code",
   "execution_count": 1,
   "id": "50154e2b",
   "metadata": {
    "execution": {
     "iopub.execute_input": "2025-02-17T07:20:06.935238Z",
     "iopub.status.busy": "2025-02-17T07:20:06.934846Z",
     "iopub.status.idle": "2025-02-17T07:20:07.311898Z",
     "shell.execute_reply": "2025-02-17T07:20:07.311353Z"
    }
   },
   "outputs": [],
   "source": [
    "import bempp.api\n",
    "import numpy as np"
   ]
  },
  {
   "cell_type": "markdown",
   "id": "8f7dfff3",
   "metadata": {},
   "source": [
    "The grid re-entrant cube is predefined in the shapes module. By default it refines towards the singular corner. As function space on the grid we choose a simple space of piecewise constant functions."
   ]
  },
  {
   "cell_type": "code",
   "execution_count": 2,
   "id": "8645be14",
   "metadata": {
    "execution": {
     "iopub.execute_input": "2025-02-17T07:20:07.314188Z",
     "iopub.status.busy": "2025-02-17T07:20:07.313645Z",
     "iopub.status.idle": "2025-02-17T07:20:16.756988Z",
     "shell.execute_reply": "2025-02-17T07:20:16.756392Z"
    }
   },
   "outputs": [
    {
     "name": "stdout",
     "output_type": "stream",
     "text": [
      "\n"
     ]
    }
   ],
   "source": [
    "grid = bempp.api.shapes.reentrant_cube(h=0.02, refinement_factor=1)\n",
    "space = bempp.api.function_space(grid, \"DP\", 0)"
   ]
  },
  {
   "cell_type": "markdown",
   "id": "cf025182",
   "metadata": {
    "lines_to_next_cell": 2
   },
   "source": [
    "Next, we define the right-hand side."
   ]
  },
  {
   "cell_type": "code",
   "execution_count": 3,
   "id": "6a231c96",
   "metadata": {
    "execution": {
     "iopub.execute_input": "2025-02-17T07:20:16.759357Z",
     "iopub.status.busy": "2025-02-17T07:20:16.759027Z",
     "iopub.status.idle": "2025-02-17T07:20:23.025579Z",
     "shell.execute_reply": "2025-02-17T07:20:23.025048Z"
    }
   },
   "outputs": [],
   "source": [
    "@bempp.api.real_callable\n",
    "def one_fun(x, n, domain_index, res):\n",
    "    res[0] = 1\n",
    "\n",
    "\n",
    "rhs = bempp.api.GridFunction(space, fun=one_fun)"
   ]
  },
  {
   "cell_type": "markdown",
   "id": "bf6e64a7",
   "metadata": {},
   "source": [
    "The following code defines the left-hand side single-layer boundary operator."
   ]
  },
  {
   "cell_type": "code",
   "execution_count": 4,
   "id": "9d192446",
   "metadata": {
    "execution": {
     "iopub.execute_input": "2025-02-17T07:20:23.027692Z",
     "iopub.status.busy": "2025-02-17T07:20:23.027355Z",
     "iopub.status.idle": "2025-02-17T07:20:23.031476Z",
     "shell.execute_reply": "2025-02-17T07:20:23.030981Z"
    }
   },
   "outputs": [],
   "source": [
    "op = bempp.api.operators.boundary.laplace.single_layer(space, space, space)"
   ]
  },
  {
   "cell_type": "markdown",
   "id": "5f8637ed",
   "metadata": {},
   "source": [
    "We use GMRES to solve the system. To improve convergence we use a strong form discretisation that automatically preconditions with the mass matrix."
   ]
  },
  {
   "cell_type": "code",
   "execution_count": 5,
   "id": "972ba17a",
   "metadata": {
    "execution": {
     "iopub.execute_input": "2025-02-17T07:20:23.033291Z",
     "iopub.status.busy": "2025-02-17T07:20:23.032895Z",
     "iopub.status.idle": "2025-02-17T07:22:24.273373Z",
     "shell.execute_reply": "2025-02-17T07:22:24.272893Z"
    }
   },
   "outputs": [
    {
     "name": "stderr",
     "output_type": "stream",
     "text": [
      "/dolfinx-env/lib/python3.12/site-packages/bempp/api/assembly/discrete_boundary_operator.py:639: SparseEfficiencyWarning: splu converted its input to CSC format\n",
      "  solver = solver_interface(actual_mat)\n"
     ]
    },
    {
     "name": "stdout",
     "output_type": "stream",
     "text": [
      "Number of iterations: 35\n"
     ]
    }
   ],
   "source": [
    "sol, _, iteration_count = bempp.api.linalg.gmres(op, rhs, use_strong_form=True, return_iteration_count=True)\n",
    "\n",
    "print(\"Number of iterations: {0}\".format(iteration_count))"
   ]
  },
  {
   "cell_type": "markdown",
   "id": "58d3b154",
   "metadata": {},
   "source": [
    "To obtain the capacity we simply integrate the solution across the boundary."
   ]
  },
  {
   "cell_type": "code",
   "execution_count": 6,
   "id": "c6b6c92f",
   "metadata": {
    "execution": {
     "iopub.execute_input": "2025-02-17T07:22:24.275114Z",
     "iopub.status.busy": "2025-02-17T07:22:24.274938Z",
     "iopub.status.idle": "2025-02-17T07:22:28.790847Z",
     "shell.execute_reply": "2025-02-17T07:22:28.790379Z"
    }
   },
   "outputs": [
    {
     "name": "stdout",
     "output_type": "stream",
     "text": [
      "The normalized capacity is 0.645517776132192.\n"
     ]
    }
   ],
   "source": [
    "normalized_capacity = 1.0 / (4 * np.pi) * sol.integrate()[0]\n",
    "print(\"The normalized capacity is {0}.\".format(normalized_capacity))"
   ]
  }
 ],
 "metadata": {
  "jupytext": {
   "main_language": "python"
  },
  "language_info": {
   "codemirror_mode": {
    "name": "ipython",
    "version": 3
   },
   "file_extension": ".py",
   "mimetype": "text/x-python",
   "name": "python",
   "nbconvert_exporter": "python",
   "pygments_lexer": "ipython3",
   "version": "3.12.3"
  }
 },
 "nbformat": 4,
 "nbformat_minor": 5
}
