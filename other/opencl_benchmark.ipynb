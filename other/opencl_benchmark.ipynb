{
 "cells": [
  {
   "cell_type": "markdown",
   "id": "90c43440",
   "metadata": {},
   "source": [
    "# Bempp OpenCL performance benchmarks\n",
    "This is a test notebook to benchmark the Bempp performance on different devices. The default figures reported here\n",
    "are obtained under Ubuntu 20.04 Linux on an Intel Core i9-9980HK 8 Core CPU with a base clock of 2.4GHz and a maximum turbo\n",
    "frequency of 5GHz. The GPU device is an NVIDIA Quadro RTX 3000 GPU with 6GB Ram.\n",
    "\n",
    "As OpenCL CPU driver we test both POCL (in Version 1.5) and the Intel OpenCL CPU driver, both with default vectorization options.\n",
    "\n",
    "We are benchmarking the following operator types\n",
    "\n",
    "* Boundary Operators:\n",
    "\n",
    "    * Laplace single and double layer boundary operator\n",
    "    * Helmholtz single and double layer boundary operator\n",
    "    * Maxwell electric and magnetic field boundary operator\n",
    "\n",
    "\n",
    "* Domain Potential Operators:\n",
    "\n",
    "    * Laplace single and double layer potential operator\n",
    "    * Helmholtz single and double layer potential operator\n",
    "    * Maxwell electric and magnetic field domain potential operator\n",
    "\n",
    "\n",
    "We are testing all operators in single and double precision. For the GPU we only perform single precision tests as it is significantly\n",
    "slower in double precision.\n",
    "\n",
    "As mesh we use a uniform sphere with 8192 elements. As wavenumber in the Helmholtz and Maxwell tests we use the value $k=1.0$. This has no effect on the performance. As scalar function spaces we use spaces of continuous $P1$ functions. For Maxwell we use RWG functions of order 0.\n",
    "\n",
    "## General Setup\n",
    "In this section we define the general objects that we need in all benchmarks."
   ]
  },
  {
   "cell_type": "code",
   "execution_count": null,
   "id": "3a0ad750",
   "metadata": {},
   "outputs": [],
   "source": [
    "import bempp.api\n",
    "import numpy as np\n",
    "import pandas as pd"
   ]
  },
  {
   "cell_type": "code",
   "execution_count": null,
   "id": "aba47d01",
   "metadata": {
    "lines_to_next_cell": 2
   },
   "outputs": [],
   "source": [
    "grid = bempp.api.shapes.regular_sphere(5)\n",
    "p1_space = bempp.api.function_space(grid, \"P\", 1)\n",
    "rwg_space = bempp.api.function_space(grid, \"RWG\", 0)\n",
    "snc_space = bempp.api.function_space(grid, \"SNC\", 0)"
   ]
  },
  {
   "cell_type": "code",
   "execution_count": null,
   "id": "799285e8",
   "metadata": {},
   "outputs": [],
   "source": [
    "try:\n",
    "    get_ipython()\n",
    "except NameError:\n",
    "    raise RuntimeError(\"Must run using IPython\")\n",
    "\n",
    "\n",
    "def benchmark_boundary_operator(operator, precision):\n",
    "    \"\"\"Benchmark an operator with given precision\"\"\"\n",
    "    result = get_ipython().run_line_magic(\"timeit\", \"-o -r 2 -n 2 operator(precision).weak_form()\")  # noqa: F821\n",
    "    return result.best\n",
    "\n",
    "\n",
    "def benchmark_potential_operator(operator, fun, precision):\n",
    "    \"\"\"Benchmark an operator with given precision\"\"\"\n",
    "    result = get_ipython().run_line_magic(\"timeit\", \"-o -r 2 -n 2 res = operator(precision) @ fun\")  # noqa: F821\n",
    "    return result.best"
   ]
  },
  {
   "cell_type": "markdown",
   "id": "d85dd7a3",
   "metadata": {},
   "source": [
    "## Boundary Operators\n",
    "We first define the boundary operators that we want to test. We make them dependent only on a *precision* argument."
   ]
  },
  {
   "cell_type": "code",
   "execution_count": null,
   "id": "c8b96f7a",
   "metadata": {},
   "outputs": [],
   "source": [
    "from bempp.api.operators import boundary\n",
    "\n",
    "k = 1.0\n",
    "\n",
    "operators = [\n",
    "    lambda precision: boundary.laplace.single_layer(p1_space, p1_space, p1_space, precision=precision),\n",
    "    lambda precision: boundary.laplace.double_layer(p1_space, p1_space, p1_space, precision=precision),\n",
    "    lambda precision: boundary.helmholtz.single_layer(p1_space, p1_space, p1_space, k, precision=precision),\n",
    "    lambda precision: boundary.helmholtz.double_layer(p1_space, p1_space, p1_space, k, precision=precision),\n",
    "    lambda precision: boundary.maxwell.electric_field(rwg_space, rwg_space, snc_space, k, precision=precision),\n",
    "    lambda precision: boundary.maxwell.magnetic_field(rwg_space, rwg_space, snc_space, k, precision=precision),\n",
    "]"
   ]
  },
  {
   "cell_type": "markdown",
   "id": "59cfce7d",
   "metadata": {},
   "source": [
    "We setup a Pandas data frame to conveniently store the different timings."
   ]
  },
  {
   "cell_type": "code",
   "execution_count": null,
   "id": "0a3ba1d5",
   "metadata": {},
   "outputs": [],
   "source": [
    "driver_labels = [\"Portable Computing Language\", \"Intel(R) OpenCL\"]\n",
    "precision_labels = [\"single\", \"double\"]\n",
    "\n",
    "operator_labels = [\n",
    "    \"laplace single layer bnd\",\n",
    "    \"laplace double layer bnd\",\n",
    "    \"helmholtz single layer bnd\",\n",
    "    \"helmholtz double layer bnd\",\n",
    "    \"maxwell electric bnd\",\n",
    "    \"maxwell magnetic bnd\",\n",
    "]\n",
    "df = pd.DataFrame(index=operator_labels, columns=pd.MultiIndex.from_product([driver_labels, precision_labels]))"
   ]
  },
  {
   "cell_type": "markdown",
   "id": "ec138d6a",
   "metadata": {},
   "source": [
    "We assemble each operator once to make sure that all Numba functions are compiled."
   ]
  },
  {
   "cell_type": "code",
   "execution_count": null,
   "id": "514a70c1",
   "metadata": {},
   "outputs": [],
   "source": [
    "for precision in [\"single\", \"double\"]:\n",
    "    if precision == \"single\":\n",
    "        bempp.api.VECTORIZATION_MODE = \"vec16\"\n",
    "    else:\n",
    "        bempp.api.VECTORIZATION_MODE = \"vec8\"\n",
    "    for driver_name in driver_labels:\n",
    "        bempp.api.set_default_cpu_device_by_name(driver_name)\n",
    "        for op in operators:\n",
    "            op(precision).weak_form()"
   ]
  },
  {
   "cell_type": "markdown",
   "id": "9337f030",
   "metadata": {},
   "source": [
    "Now let's run the actual benchmarks."
   ]
  },
  {
   "cell_type": "code",
   "execution_count": null,
   "id": "1e9b6a1d",
   "metadata": {},
   "outputs": [],
   "source": [
    "for precision in [\"single\", \"double\"]:\n",
    "    if precision == \"single\":\n",
    "        bempp.api.VECTORIZATION_MODE = \"vec16\"\n",
    "    else:\n",
    "        bempp.api.VECTORIZATION_MODE = \"vec8\"\n",
    "    for driver_name in driver_labels:\n",
    "        print(f\"Driver: {driver_name}\")\n",
    "        bempp.api.set_default_cpu_device_by_name(driver_name)\n",
    "        for label, op in zip(operator_labels, operators):\n",
    "            df.loc[label, (driver_name, precision)] = benchmark_boundary_operator(op, precision)"
   ]
  },
  {
   "cell_type": "code",
   "execution_count": null,
   "id": "f11cb24d",
   "metadata": {},
   "outputs": [],
   "source": [
    "results_boundary_operators = df"
   ]
  },
  {
   "cell_type": "markdown",
   "id": "2835fc88",
   "metadata": {},
   "source": [
    "## Potential Operators\n",
    "We are going to evaluate the potentials at 10000 evaluation points. The points are normalised to lie on a sphere with radius .5 As evaluation function we use a simple constant function."
   ]
  },
  {
   "cell_type": "code",
   "execution_count": null,
   "id": "aeabeb72",
   "metadata": {},
   "outputs": [],
   "source": [
    "npoints = 10000\n",
    "rand = np.random.RandomState(0)\n",
    "points = rand.randn(3, npoints)\n",
    "points /= np.linalg.norm(points, axis=0)"
   ]
  },
  {
   "cell_type": "markdown",
   "id": "f1177739",
   "metadata": {},
   "source": [
    "Let us define the operators and functions."
   ]
  },
  {
   "cell_type": "code",
   "execution_count": null,
   "id": "655004da",
   "metadata": {},
   "outputs": [],
   "source": [
    "from bempp.api.operators import potential\n",
    "\n",
    "k = 1.0\n",
    "\n",
    "operators = [\n",
    "    lambda precision: potential.laplace.single_layer(p1_space, points, precision=precision),\n",
    "    lambda precision: potential.laplace.double_layer(p1_space, points, precision=precision),\n",
    "    lambda precision: potential.helmholtz.single_layer(p1_space, points, k, precision=precision),\n",
    "    lambda precision: potential.helmholtz.double_layer(p1_space, points, k, precision=precision),\n",
    "    lambda precision: potential.maxwell.electric_field(rwg_space, points, k, precision=precision),\n",
    "    lambda precision: potential.maxwell.magnetic_field(rwg_space, points, k, precision=precision),\n",
    "]\n",
    "\n",
    "functions = [\n",
    "    bempp.api.GridFunction.from_ones(p1_space),\n",
    "    bempp.api.GridFunction.from_ones(p1_space),\n",
    "    bempp.api.GridFunction.from_ones(p1_space),\n",
    "    bempp.api.GridFunction.from_ones(p1_space),\n",
    "    bempp.api.GridFunction.from_ones(rwg_space),\n",
    "    bempp.api.GridFunction.from_ones(rwg_space),\n",
    "]"
   ]
  },
  {
   "cell_type": "markdown",
   "id": "56a562ec",
   "metadata": {},
   "source": [
    "We assemble each operator once to compile all functions."
   ]
  },
  {
   "cell_type": "code",
   "execution_count": null,
   "id": "835b57ff",
   "metadata": {},
   "outputs": [],
   "source": [
    "for precision in [\"single\", \"double\"]:\n",
    "    if precision == \"single\":\n",
    "        bempp.api.VECTORIZATION_MODE = \"vec16\"\n",
    "    else:\n",
    "        bempp.api.VECTORIZATION_MODE = \"vec8\"\n",
    "    for driver_name in driver_labels:\n",
    "        bempp.api.set_default_cpu_device_by_name(driver_name)\n",
    "        for op, fun in zip(operators, functions):\n",
    "            res = op(precision) @ fun"
   ]
  },
  {
   "cell_type": "markdown",
   "id": "71c98166",
   "metadata": {},
   "source": [
    "Let's create the data structure to store the results."
   ]
  },
  {
   "cell_type": "code",
   "execution_count": null,
   "id": "e4a6b831",
   "metadata": {},
   "outputs": [],
   "source": [
    "driver_labels = [\"Portable Computing Language\", \"Intel(R) OpenCL\", \"NVIDIA CUDA\"]\n",
    "precision_labels = [\"single\", \"double\"]\n",
    "\n",
    "operator_labels = [\n",
    "    \"laplace single layer pot\",\n",
    "    \"laplace double layer pot\",\n",
    "    \"helmholtz single layer pot\",\n",
    "    \"helmholtz double layer pot\",\n",
    "    \"maxwell electric pot\",\n",
    "    \"maxwell magnetic pot\",\n",
    "]\n",
    "df = pd.DataFrame(index=operator_labels, columns=pd.MultiIndex.from_product([driver_labels, precision_labels]))"
   ]
  },
  {
   "cell_type": "markdown",
   "id": "5677051c",
   "metadata": {},
   "source": [
    "Finally, we run the actual tests."
   ]
  },
  {
   "cell_type": "code",
   "execution_count": null,
   "id": "8a30d842",
   "metadata": {},
   "outputs": [],
   "source": [
    "bempp.api.set_default_gpu_device_by_name(\"NVIDIA CUDA\")\n",
    "\n",
    "for precision in [\"single\", \"double\"]:\n",
    "    if precision == \"single\":\n",
    "        bempp.api.VECTORIZATION_MODE = \"vec16\"\n",
    "    else:\n",
    "        bempp.api.VECTORIZATION_MODE = \"vec8\"\n",
    "    for driver_name in driver_labels:\n",
    "        print(f\"Driver: {driver_name}\")\n",
    "        if driver_name == \"NVIDIA CUDA\":\n",
    "            bempp.api.POTENTIAL_OPERATOR_DEVICE_TYPE = \"gpu\"\n",
    "            bempp.api.VECTORIZATION_MODE = \"novec\"\n",
    "        else:\n",
    "            bempp.api.POTENTIAL_OPERATOR_DEVICE_TYPE = \"cpu\"\n",
    "            bempp.api.set_default_cpu_device_by_name(driver_name)\n",
    "        for label, op, fun in zip(operator_labels, operators, functions):\n",
    "            df.loc[label, (driver_name, precision)] = benchmark_potential_operator(op, fun, precision)"
   ]
  },
  {
   "cell_type": "code",
   "execution_count": null,
   "id": "82c2c474",
   "metadata": {},
   "outputs": [],
   "source": [
    "results_potential_operators = df"
   ]
  },
  {
   "cell_type": "markdown",
   "id": "0f165027",
   "metadata": {},
   "source": [
    "## Output"
   ]
  },
  {
   "cell_type": "code",
   "execution_count": null,
   "id": "0b6f1a76",
   "metadata": {},
   "outputs": [],
   "source": [
    "print(results_boundary_operators)\n",
    "print(results_potential_operators)"
   ]
  }
 ],
 "metadata": {
  "jupytext": {
   "main_language": "python"
  }
 },
 "nbformat": 4,
 "nbformat_minor": 5
}
